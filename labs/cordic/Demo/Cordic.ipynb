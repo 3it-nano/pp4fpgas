{
 "cells": [
  {
   "cell_type": "markdown",
   "metadata": {},
   "source": [
    "## CORDIC TESTBENCH\n",
    "\n",
    "\n",
    "This notebook is to test the implementation of Cordic . It converts cartesian to polar coordinates. The output is compared with a python implementation of the same. It takes in x and y and gives out r and theta where r is the radius and theta is the angle."
   ]
  },
  {
   "cell_type": "code",
   "execution_count": 1,
   "metadata": {},
   "outputs": [
    {
     "data": {
      "application/javascript": [
       "\n",
       "require(['notebook/js/codecell'], function(codecell) {\n",
       "  codecell.CodeCell.options_default.highlight_modes[\n",
       "      'magic_text/x-csrc'] = {'reg':[/^%%microblaze/]};\n",
       "  Jupyter.notebook.events.one('kernel_ready.Kernel', function(){\n",
       "      Jupyter.notebook.get_cells().map(function(cell){\n",
       "          if (cell.cell_type == 'code'){ cell.auto_highlight(); } }) ;\n",
       "  });\n",
       "});\n"
      ]
     },
     "metadata": {},
     "output_type": "display_data"
    }
   ],
   "source": [
    "from pynq import Overlay\n",
    "from pynq import MMIO\n",
    "import numpy as np\n",
    "import struct\n",
    "import binascii\n",
    "import cmath\n",
    "import random"
   ]
  },
  {
   "cell_type": "code",
   "execution_count": 2,
   "metadata": {},
   "outputs": [],
   "source": [
    "ol=Overlay('./cordic.bit') #Change name of bitstream as required"
   ]
  },
  {
   "cell_type": "code",
   "execution_count": 3,
   "metadata": {},
   "outputs": [],
   "source": [
    "cordic_ip=MMIO(0x43C00000,10000) #Change base address as required"
   ]
  },
  {
   "cell_type": "code",
   "execution_count": 4,
   "metadata": {},
   "outputs": [
    {
     "name": "stdout",
     "output_type": "stream",
     "text": [
      "r: 0.6484100818634033 Golden r: 0.6484665141905163 theta: -0.590743362903595 Golden theta: -0.5907167493612641\n",
      "r: 0.4880574345588684 Golden r: 0.4881000973246872 theta: 1.4922879934310913 Golden theta: 1.4923124315191336\n",
      "r: 1.3128074407577515 Golden r: 1.3129217835139513 theta: -0.8384329080581665 Golden theta: -0.8384381745054351\n",
      "r: 0.9772644639015198 Golden r: 0.977349585891099 theta: 3.037658452987671 Golden theta: 3.0377840523086075\n",
      "r: 0.5137990713119507 Golden r: 0.5138438980900786 theta: -0.6283385157585144 Golden theta: -0.6283393992567109\n",
      "r: 0.8309587836265564 Golden r: 0.8310311938119501 theta: -0.941987156867981 Golden theta: -0.9420033874791789\n",
      "r: 0.4481015205383301 Golden r: 0.448140611301344 theta: 0.6595706343650818 Golden theta: 0.6595778281702334\n",
      "r: 0.33386513590812683 Golden r: 0.3338942523951831 theta: 1.5257877111434937 Golden theta: 1.5257626636516133\n",
      "r: 0.842417299747467 Golden r: 0.8424907450548891 theta: 1.7376888990402222 Golden theta: 1.7377549398757908\n",
      "r: 0.6785401105880737 Golden r: 0.6785992747240805 theta: -0.15520904958248138 Golden theta: -0.15523032069329742\n",
      "PASSED\n"
     ]
    }
   ],
   "source": [
    "ct=0\n",
    "for i in range(10):\n",
    "    #Generating random inputs\n",
    "    x=random.uniform(-1,1)\n",
    "    y=random.uniform(-1,1)\n",
    "    \n",
    "    #Computing golden output\n",
    "    cn=complex(x,y)\n",
    "    cn=cmath.polar(cn)\n",
    "    \n",
    "    #Converting input to bytes to be sent to FPGA\n",
    "    x=(struct.unpack('<I', struct.pack('<f', x))[0])\n",
    "    y=(struct.unpack('<I', struct.pack('<f', y))[0])\n",
    "    \n",
    "    #Writing values to the FPGA\n",
    "    cordic_ip.write(0x10,x)                             #Change the offset as mentioned in vivado file\n",
    "    cordic_ip.write(0x18,y)                             #Change the offset as mentioned in vivado file\n",
    "    \n",
    "    #Starting and stopping the IP (Don't change this)\n",
    "    cordic_ip.write(0x00,1)\n",
    "    cordic_ip.write(0x00,0)\n",
    "    \n",
    "    #Reading from IP\n",
    "    r=hex(cordic_ip.read(0x20))                         #Change the offset as mentioned in vivado file\n",
    "    r=r[2:]\n",
    "    theta=hex(cordic_ip.read(0x28))                     #Change the offset as mentioned in vivado file\n",
    "    theta=theta[2:]\n",
    "    \n",
    "    #Converting to float\n",
    "    if r!=0:\n",
    "        r=struct.unpack('>f', binascii.unhexlify(r))\n",
    "        r=r[0]\n",
    "    if theta!=0:\n",
    "        theta=struct.unpack('>f', binascii.unhexlify(theta))\n",
    "        theta=theta[0]\n",
    "        \n",
    "    #Printing and Comparing with golden output    \n",
    "    print(\"r:\",r,\"Golden r:\",cn[0],\"theta:\",theta,\"Golden theta:\",cn[1])\n",
    "    if (abs(r-cn[0])<0.001) and (abs(theta-cn[1])<0.001):\n",
    "        ct=ct+1\n",
    "\n",
    "if ct==10:\n",
    "    print(\"PASSED\")\n",
    "else:\n",
    "    print(\"FAILED\")"
   ]
  },
  {
   "cell_type": "code",
   "execution_count": null,
   "metadata": {},
   "outputs": [],
   "source": []
  }
 ],
 "metadata": {
  "kernelspec": {
   "display_name": "Python 3",
   "language": "python",
   "name": "python3"
  },
  "language_info": {
   "codemirror_mode": {
    "name": "ipython",
    "version": 3
   },
   "file_extension": ".py",
   "mimetype": "text/x-python",
   "name": "python",
   "nbconvert_exporter": "python",
   "pygments_lexer": "ipython3",
   "version": "3.6.5"
  }
 },
 "nbformat": 4,
 "nbformat_minor": 2
}
